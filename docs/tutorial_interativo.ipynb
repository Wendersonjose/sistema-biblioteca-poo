{
 "cells": [
  {
   "cell_type": "markdown",
   "id": "a4d57cc1",
   "metadata": {},
   "source": [
    "# 📚 Sistema de Biblioteca - Tutorial Interativo\n",
    "\n",
    "Este notebook demonstra interativamente todas as funcionalidades do Sistema de Biblioteca.\n",
    "\n",
    "## ✨ Sobre o Sistema\n",
    "\n",
    "O Sistema de Biblioteca é uma aplicação completa desenvolvida em Python usando Programação Orientada a Objetos (POO). Ele permite:\n",
    "\n",
    "- 📖 Gerenciar acervo de livros\n",
    "- 👤 Cadastrar e gerenciar usuários\n",
    "- 🤝 Controlar empréstimos e devoluções\n",
    "- 🔍 Buscar livros por título ou autor\n",
    "- 📊 Gerar relatórios e estatísticas\n",
    "\n",
    "## 🏗️ Arquitetura\n",
    "\n",
    "O sistema é composto por três classes principais:\n",
    "\n",
    "1. **`Livro`**: Representa um livro individual\n",
    "2. **`Usuario`**: Gerencia usuários e seus empréstimos\n",
    "3. **`Biblioteca`**: Orquestra todo o sistema"
   ]
  },
  {
   "cell_type": "markdown",
   "id": "622636c6",
   "metadata": {},
   "source": [
    "## 🚀 Configuração Inicial\n",
    "\n",
    "Primeiro, vamos importar as classes necessárias:"
   ]
  },
  {
   "cell_type": "code",
   "execution_count": null,
   "id": "459a3220",
   "metadata": {},
   "outputs": [],
   "source": [
    "# Imports necessários\n",
    "import sys\n",
    "import os\n",
    "\n",
    "# Adicionar o diretório src ao path\n",
    "sys.path.append(os.path.join('..', 'src'))\n",
    "\n",
    "from biblioteca_melhorada import Biblioteca, Livro, Usuario\n",
    "from datetime import datetime\n",
    "\n",
    "print(\"✅ Imports realizados com sucesso!\")\n",
    "print(\"📚 Sistema de Biblioteca carregado\")"
   ]
  },
  {
   "cell_type": "markdown",
   "id": "9dd9f3d3",
   "metadata": {},
   "source": [
    "## 📖 Trabalhando com Livros\n",
    "\n",
    "Vamos começar criando alguns livros e explorando suas funcionalidades:"
   ]
  },
  {
   "cell_type": "code",
   "execution_count": null,
   "id": "ea86392e",
   "metadata": {},
   "outputs": [],
   "source": [
    "# Criar livros com diferentes características\n",
    "livro1 = Livro(\"Clean Code\", \"Robert C. Martin\", 2008, \"978-0132350884\")\n",
    "livro2 = Livro(\"Python Fluente\", \"Luciano Ramalho\", 2015)\n",
    "livro3 = Livro(\"Dom Casmurro\", \"Machado de Assis\", 1899)\n",
    "\n",
    "# Exibir informações dos livros\n",
    "print(\"📚 Livros criados:\")\n",
    "print(f\"1. {livro1}\")\n",
    "print(f\"2. {livro2}\")\n",
    "print(f\"3. {livro3}\")\n",
    "\n",
    "# Verificar disponibilidade\n",
    "print(f\"\\n🔍 Status de disponibilidade:\")\n",
    "for i, livro in enumerate([livro1, livro2, livro3], 1):\n",
    "    status = \"✅ Disponível\" if livro.disponivel else \"❌ Emprestado\"\n",
    "    print(f\"  Livro {i}: {status}\")"
   ]
  },
  {
   "cell_type": "markdown",
   "id": "a0f2dfee",
   "metadata": {},
   "source": [
    "### 🧪 Testando Validações de Livros\n",
    "\n",
    "O sistema possui validações robustas. Vamos testar:"
   ]
  },
  {
   "cell_type": "code",
   "execution_count": null,
   "id": "d516b9a6",
   "metadata": {},
   "outputs": [],
   "source": [
    "# Testar validações\n",
    "print(\"🧪 Testando validações de livros:\")\n",
    "\n",
    "# Teste 1: Título vazio\n",
    "try:\n",
    "    livro_invalido = Livro(\"\", \"Autor Teste\", 2020)\n",
    "except ValueError as e:\n",
    "    print(f\"❌ Título vazio: {e}\")\n",
    "\n",
    "# Teste 2: Ano inválido\n",
    "try:\n",
    "    livro_invalido = Livro(\"Título\", \"Autor\", -100)\n",
    "except ValueError as e:\n",
    "    print(f\"❌ Ano inválido: {e}\")\n",
    "\n",
    "# Teste 3: Ano futuro\n",
    "try:\n",
    "    livro_invalido = Livro(\"Título\", \"Autor\", 3000)\n",
    "except ValueError as e:\n",
    "    print(f\"❌ Ano futuro: {e}\")\n",
    "\n",
    "print(\"\\n✅ Todas as validações funcionaram corretamente!\")"
   ]
  },
  {
   "cell_type": "markdown",
   "id": "f2a512ca",
   "metadata": {},
   "source": [
    "## 👤 Gerenciando Usuários\n",
    "\n",
    "Agora vamos criar usuários e explorar suas funcionalidades:"
   ]
  },
  {
   "cell_type": "code",
   "execution_count": null,
   "id": "d546ee4b",
   "metadata": {},
   "outputs": [],
   "source": [
    "# Criar usuários\n",
    "usuario1 = Usuario(\"Ana Silva\", \"ana@email.com\")\n",
    "usuario2 = Usuario(\"Carlos Santos\", \"carlos@email.com\")\n",
    "usuario3 = Usuario(\"Maria Oliveira\")  # Sem email\n",
    "\n",
    "print(\"👥 Usuários criados:\")\n",
    "print(f\"1. {usuario1}\")\n",
    "print(f\"2. {usuario2}\")\n",
    "print(f\"3. {usuario3}\")\n",
    "\n",
    "# Verificar limites\n",
    "print(f\"\\n📋 Informações dos usuários:\")\n",
    "for i, usuario in enumerate([usuario1, usuario2, usuario3], 1):\n",
    "    print(f\"  Usuário {i}:\")\n",
    "    print(f\"    - Nome: {usuario.nome}\")\n",
    "    print(f\"    - Email: {usuario.email or 'Não informado'}\")\n",
    "    print(f\"    - Limite: {usuario.limite_livros} livros\")\n",
    "    print(f\"    - Emprestados: {len(usuario.livros_emprestados)} livros\")"
   ]
  },
  {
   "cell_type": "markdown",
   "id": "be256e7b",
   "metadata": {},
   "source": [
    "### 📚 Testando Empréstimos\n",
    "\n",
    "Vamos testar as funcionalidades de empréstimo:"
   ]
  },
  {
   "cell_type": "code",
   "execution_count": null,
   "id": "beabef0b",
   "metadata": {},
   "outputs": [],
   "source": [
    "print(\"📚 Testando empréstimos:\")\n",
    "print(\"=\" * 40)\n",
    "\n",
    "# Ana pega Clean Code\n",
    "print(\"\\n1. Ana tenta pegar 'Clean Code':\")\n",
    "resultado = usuario1.pegar_livro(livro1)\n",
    "print(f\"   Resultado: {'✅ Sucesso' if resultado else '❌ Falhou'}\")\n",
    "\n",
    "# Carlos tenta pegar o mesmo livro\n",
    "print(\"\\n2. Carlos tenta pegar o mesmo livro:\")\n",
    "resultado = usuario2.pegar_livro(livro1)\n",
    "print(f\"   Resultado: {'✅ Sucesso' if resultado else '❌ Falhou (esperado)'}\")\n",
    "\n",
    "# Ana pega mais livros\n",
    "print(\"\\n3. Ana pega mais livros:\")\n",
    "usuario1.pegar_livro(livro2)\n",
    "usuario1.pegar_livro(livro3)\n",
    "\n",
    "# Verificar status atual\n",
    "print(\"\\n📊 Status atual:\")\n",
    "usuario1.listar_livros_emprestados()\n",
    "usuario2.listar_livros_emprestados()"
   ]
  },
  {
   "cell_type": "markdown",
   "id": "65a27247",
   "metadata": {},
   "source": [
    "### 🔄 Testando Devoluções\n",
    "\n",
    "Agora vamos testar as devoluções:"
   ]
  },
  {
   "cell_type": "code",
   "execution_count": null,
   "id": "85084d36",
   "metadata": {},
   "outputs": [],
   "source": [
    "print(\"🔄 Testando devoluções:\")\n",
    "print(\"=\" * 30)\n",
    "\n",
    "# Ana devolve Clean Code\n",
    "print(\"\\n1. Ana devolve 'Clean Code':\")\n",
    "resultado = usuario1.devolver_livro(livro1)\n",
    "print(f\"   Resultado: {'✅ Sucesso' if resultado else '❌ Falhou'}\")\n",
    "\n",
    "# Verificar se livro está disponível novamente\n",
    "print(f\"\\n2. Status do Clean Code: {'✅ Disponível' if livro1.disponivel else '❌ Emprestado'}\")\n",
    "\n",
    "# Carlos agora consegue pegar o livro\n",
    "print(\"\\n3. Carlos tenta pegar 'Clean Code' novamente:\")\n",
    "resultado = usuario2.pegar_livro(livro1)\n",
    "print(f\"   Resultado: {'✅ Sucesso' if resultado else '❌ Falhou'}\")\n",
    "\n",
    "# Status final\n",
    "print(\"\\n📊 Status final dos usuários:\")\n",
    "for usuario in [usuario1, usuario2, usuario3]:\n",
    "    usuario.listar_livros_emprestados()"
   ]
  },
  {
   "cell_type": "markdown",
   "id": "15ccb9e8",
   "metadata": {},
   "source": [
    "## 🏛️ Criando uma Biblioteca Completa\n",
    "\n",
    "Agora vamos criar uma biblioteca completa e explorar todas suas funcionalidades:"
   ]
  },
  {
   "cell_type": "code",
   "execution_count": null,
   "id": "98b3411e",
   "metadata": {},
   "outputs": [],
   "source": [
    "# Criar biblioteca\n",
    "biblioteca = Biblioteca(\"Biblioteca Interativa - Jupyter\")\n",
    "print(f\"🏛️ Biblioteca criada: {biblioteca.nome}\")\n",
    "\n",
    "# Adicionar livros à biblioteca\n",
    "livros_acervo = [\n",
    "    Livro(\"1984\", \"George Orwell\", 1949, \"978-0451524935\"),\n",
    "    Livro(\"Clean Code\", \"Robert Martin\", 2008, \"978-0132350884\"),\n",
    "    Livro(\"Python Fluente\", \"Luciano Ramalho\", 2015, \"978-8575224625\"),\n",
    "    Livro(\"Dom Casmurro\", \"Machado de Assis\", 1899),\n",
    "    Livro(\"O Cortiço\", \"Aluísio Azevedo\", 1890),\n",
    "    Livro(\"Effective Python\", \"Brett Slatkin\", 2019, \"978-0134853987\"),\n",
    "    Livro(\"Algoritmos\", \"Thomas Cormen\", 2009, \"978-8535236996\")\n",
    "]\n",
    "\n",
    "print(\"\\n📚 Adicionando livros ao acervo:\")\n",
    "for livro in livros_acervo:\n",
    "    biblioteca.adicionar_livro(livro)\n",
    "\n",
    "print(f\"\\n✅ Acervo criado com {len(biblioteca.livros)} livros!\")"
   ]
  },
  {
   "cell_type": "markdown",
   "id": "20d32399",
   "metadata": {},
   "source": [
    "### 👥 Registrando Usuários na Biblioteca"
   ]
  },
  {
   "cell_type": "code",
   "execution_count": null,
   "id": "ba1e409c",
   "metadata": {},
   "outputs": [],
   "source": [
    "# Registrar usuários na biblioteca\n",
    "usuarios_biblioteca = [\n",
    "    Usuario(\"Alice Developer\", \"alice@dev.com\"),\n",
    "    Usuario(\"Bob Student\", \"bob@student.edu\"),\n",
    "    Usuario(\"Carol Teacher\", \"carol@school.edu\"),\n",
    "    Usuario(\"David Reader\")\n",
    "]\n",
    "\n",
    "print(\"👥 Registrando usuários:\")\n",
    "for usuario in usuarios_biblioteca:\n",
    "    biblioteca.registrar_usuario(usuario)\n",
    "\n",
    "print(f\"\\n✅ {len(biblioteca.usuarios)} usuários registrados!\")"
   ]
  },
  {
   "cell_type": "markdown",
   "id": "18bd9f4c",
   "metadata": {},
   "source": [
    "### 📋 Visualizando o Catálogo\n",
    "\n",
    "Vamos ver como fica o catálogo da biblioteca:"
   ]
  },
  {
   "cell_type": "code",
   "execution_count": null,
   "id": "73f50482",
   "metadata": {},
   "outputs": [],
   "source": [
    "# Mostrar catálogo completo\n",
    "biblioteca.listar_livros()"
   ]
  },
  {
   "cell_type": "markdown",
   "id": "0bb3f076",
   "metadata": {},
   "source": [
    "### 🔍 Testando Sistema de Busca\n",
    "\n",
    "O sistema possui busca inteligente por título ou autor:"
   ]
  },
  {
   "cell_type": "code",
   "execution_count": null,
   "id": "9a6c2721",
   "metadata": {},
   "outputs": [],
   "source": [
    "print(\"🔍 Testando sistema de busca:\")\n",
    "print(\"=\" * 40)\n",
    "\n",
    "# Busca por autor (case-insensitive)\n",
    "print(\"\\n1. Busca por 'MACHADO' (autor):\")\n",
    "resultados = biblioteca.buscar_livro(\"MACHADO\")\n",
    "\n",
    "# Busca por linguagem de programação\n",
    "print(\"\\n2. Busca por 'python':\")\n",
    "resultados = biblioteca.buscar_livro(\"python\")\n",
    "\n",
    "# Busca por título parcial\n",
    "print(\"\\n3. Busca por 'clean':\")\n",
    "resultados = biblioteca.buscar_livro(\"clean\")\n",
    "\n",
    "# Busca por termo inexistente\n",
    "print(\"\\n4. Busca por 'javascript' (inexistente):\")\n",
    "resultados = biblioteca.buscar_livro(\"javascript\")"
   ]
  },
  {
   "cell_type": "markdown",
   "id": "2abf61ba",
   "metadata": {},
   "source": [
    "### 📊 Simulando Atividade da Biblioteca\n",
    "\n",
    "Vamos simular um dia movimentado na biblioteca:"
   ]
  },
  {
   "cell_type": "code",
   "execution_count": null,
   "id": "8764883f",
   "metadata": {},
   "outputs": [],
   "source": [
    "print(\"📊 Simulando atividades da biblioteca:\")\n",
    "print(\"=\" * 45)\n",
    "\n",
    "# Alice (desenvolvedora) pega livros técnicos\n",
    "print(\"\\n👩‍💻 Alice (desenvolvedora) busca livros técnicos:\")\n",
    "biblioteca.usuarios[0].pegar_livro(biblioteca.livros[1])  # Clean Code\n",
    "biblioteca.usuarios[0].pegar_livro(biblioteca.livros[2])  # Python Fluente\n",
    "biblioteca.usuarios[0].pegar_livro(biblioteca.livros[5])  # Effective Python\n",
    "\n",
    "# Bob (estudante) pega livros clássicos\n",
    "print(\"\\n📚 Bob (estudante) busca literatura:\")\n",
    "biblioteca.usuarios[1].pegar_livro(biblioteca.livros[3])  # Dom Casmurro\n",
    "biblioteca.usuarios[1].pegar_livro(biblioteca.livros[4])  # O Cortiço\n",
    "\n",
    "# Carol (professora) pega algoritmos\n",
    "print(\"\\n👩‍🏫 Carol (professora) busca material didático:\")\n",
    "biblioteca.usuarios[2].pegar_livro(biblioteca.livros[6])  # Algoritmos\n",
    "\n",
    "# David tenta pegar livro já emprestado\n",
    "print(\"\\n🤔 David tenta pegar livro já emprestado:\")\n",
    "biblioteca.usuarios[3].pegar_livro(biblioteca.livros[1])  # Clean Code (já com Alice)"
   ]
  },
  {
   "cell_type": "markdown",
   "id": "3cbeee0e",
   "metadata": {},
   "source": [
    "### 📈 Estatísticas e Relatórios\n",
    "\n",
    "Vamos ver as estatísticas da biblioteca após toda essa atividade:"
   ]
  },
  {
   "cell_type": "code",
   "execution_count": null,
   "id": "b2ae43ba",
   "metadata": {},
   "outputs": [],
   "source": [
    "# Mostrar estatísticas completas\n",
    "biblioteca.estatisticas()\n",
    "\n",
    "# Status detalhado de cada usuário\n",
    "print(\"\\n👥 Status detalhado dos usuários:\")\n",
    "print(\"=\" * 40)\n",
    "for usuario in biblioteca.usuarios:\n",
    "    print(f\"\\n📋 {usuario.nome}:\")\n",
    "    usuario.listar_livros_emprestados()"
   ]
  },
  {
   "cell_type": "markdown",
   "id": "748491d3",
   "metadata": {},
   "source": [
    "### 🔄 Simulando Devoluções\n",
    "\n",
    "Agora vamos simular algumas devoluções:"
   ]
  },
  {
   "cell_type": "code",
   "execution_count": null,
   "id": "b7814efe",
   "metadata": {},
   "outputs": [],
   "source": [
    "print(\"🔄 Simulando devoluções:\")\n",
    "print(\"=\" * 30)\n",
    "\n",
    "# Alice devolve Python Fluente\n",
    "print(\"\\n1. Alice devolve 'Python Fluente':\")\n",
    "biblioteca.usuarios[0].devolver_livro(biblioteca.livros[2])\n",
    "\n",
    "# Bob devolve Dom Casmurro\n",
    "print(\"\\n2. Bob devolve 'Dom Casmurro':\")\n",
    "biblioteca.usuarios[1].devolver_livro(biblioteca.livros[3])\n",
    "\n",
    "# Agora David consegue pegar um livro\n",
    "print(\"\\n3. David pega 'Python Fluente' (recém devolvido):\")\n",
    "biblioteca.usuarios[3].pegar_livro(biblioteca.livros[2])\n",
    "\n",
    "# Estatísticas finais\n",
    "print(\"\\n📊 Estatísticas após devoluções:\")\n",
    "biblioteca.estatisticas()"
   ]
  },
  {
   "cell_type": "markdown",
   "id": "27a1c710",
   "metadata": {},
   "source": [
    "## 🧪 Testando Casos Extremos\n",
    "\n",
    "Vamos testar o comportamento do sistema em situações extremas:"
   ]
  },
  {
   "cell_type": "code",
   "execution_count": null,
   "id": "f585fcd3",
   "metadata": {},
   "outputs": [],
   "source": [
    "print(\"🧪 Testando casos extremos:\")\n",
    "print(\"=\" * 35)\n",
    "\n",
    "# Teste 1: Usuário tenta pegar 4º livro (limite é 3)\n",
    "print(\"\\n1. Teste de limite de livros:\")\n",
    "print(\"   Alice já tem 2 livros, vai tentar pegar mais 2...\")\n",
    "\n",
    "# Alice pega o 3º livro (deve funcionar)\n",
    "resultado3 = biblioteca.usuarios[0].pegar_livro(biblioteca.livros[0])  # 1984\n",
    "print(f\"   3º livro: {'✅ Sucesso' if resultado3 else '❌ Falhou'}\")\n",
    "\n",
    "# Alice tenta pegar o 4º livro (deve falhar)\n",
    "resultado4 = biblioteca.usuarios[0].pegar_livro(biblioteca.livros[4])  # O Cortiço\n",
    "print(f\"   4º livro: {'✅ Sucesso' if resultado4 else '❌ Falhou (esperado)'}\")\n",
    "\n",
    "# Teste 2: Registrar usuário duplicado\n",
    "print(\"\\n2. Teste de usuário duplicado:\")\n",
    "usuario_duplicado = Usuario(\"Alice Developer\", \"alice2@dev.com\")\n",
    "biblioteca.registrar_usuario(usuario_duplicado)\n",
    "\n",
    "# Teste 3: Devolver livro que não foi emprestado\n",
    "print(\"\\n3. Teste devolução inválida:\")\n",
    "resultado_devolucao = biblioteca.usuarios[3].devolver_livro(biblioteca.livros[6])  # David não tem Algoritmos\n",
    "print(f\"   Devolução inválida: {'✅ Sucesso' if resultado_devolucao else '❌ Falhou (esperado)'}\")"
   ]
  },
  {
   "cell_type": "markdown",
   "id": "e093fb3b",
   "metadata": {},
   "source": [
    "## 📊 Relatório Final\n",
    "\n",
    "Vamos gerar um relatório final completo da nossa sessão:"
   ]
  },
  {
   "cell_type": "code",
   "execution_count": null,
   "id": "92774532",
   "metadata": {},
   "outputs": [],
   "source": [
    "print(\"📊 RELATÓRIO FINAL DA SESSÃO\")\n",
    "print(\"=\" * 50)\n",
    "\n",
    "# Estatísticas gerais\n",
    "biblioteca.estatisticas()\n",
    "\n",
    "# Livros mais populares (emprestados)\n",
    "livros_emprestados = [livro for livro in biblioteca.livros if not livro.disponivel]\n",
    "print(f\"\\n📚 Livros atualmente emprestados ({len(livros_emprestados)}):\")\n",
    "for livro in livros_emprestados:\n",
    "    # Encontrar quem pegou emprestado\n",
    "    for usuario in biblioteca.usuarios:\n",
    "        if livro in usuario.livros_emprestados:\n",
    "            print(f\"  📖 {livro.titulo} → {usuario.nome}\")\n",
    "            break\n",
    "\n",
    "# Usuários mais ativos\n",
    "print(f\"\\n👥 Ranking de usuários por atividade:\")\n",
    "usuarios_ordenados = sorted(\n",
    "    biblioteca.usuarios, \n",
    "    key=lambda u: len(u.livros_emprestados), \n",
    "    reverse=True\n",
    ")\n",
    "\n",
    "for i, usuario in enumerate(usuarios_ordenados, 1):\n",
    "    qtd_livros = len(usuario.livros_emprestados)\n",
    "    if qtd_livros > 0:\n",
    "        print(f\"  {i}º {usuario.nome}: {qtd_livros} livro(s)\")\n",
    "\n",
    "# Livros disponíveis\n",
    "livros_disponiveis = [livro for livro in biblioteca.livros if livro.disponivel]\n",
    "print(f\"\\n✅ Livros disponíveis para empréstimo ({len(livros_disponiveis)}):\")\n",
    "for livro in livros_disponiveis:\n",
    "    print(f\"  📗 {livro.titulo} ({livro.autor})\")\n",
    "\n",
    "print(\"\\n🎉 Fim da demonstração interativa!\")\n",
    "print(\"   Obrigado por explorar o Sistema de Biblioteca!\")"
   ]
  },
  {
   "cell_type": "markdown",
   "id": "31c43c28",
   "metadata": {},
   "source": [
    "## 🎯 Conclusão\n",
    "\n",
    "Este notebook demonstrou todas as funcionalidades principais do Sistema de Biblioteca:\n",
    "\n",
    "### ✅ **Funcionalidades Testadas:**\n",
    "\n",
    "1. **Gestão de Livros**:\n",
    "   - Criação com validações automáticas\n",
    "   - Controle de disponibilidade\n",
    "   - Tratamento de erros\n",
    "\n",
    "2. **Gestão de Usuários**:\n",
    "   - Cadastro com informações opcionais\n",
    "   - Controle de limite de empréstimos\n",
    "   - Histórico pessoal de empréstimos\n",
    "\n",
    "3. **Sistema de Biblioteca**:\n",
    "   - Catálogo organizado\n",
    "   - Busca inteligente (case-insensitive)\n",
    "   - Estatísticas em tempo real\n",
    "   - Relatórios detalhados\n",
    "\n",
    "4. **Validações e Segurança**:\n",
    "   - Prevenção de empréstimos duplicados\n",
    "   - Controle de limites por usuário\n",
    "   - Validação de dados de entrada\n",
    "   - Tratamento de casos extremos\n",
    "\n",
    "### 🚀 **Próximos Passos:**\n",
    "\n",
    "- Execute os testes automatizados: `pytest tests/ -v`\n",
    "- Explore a documentação completa: `docs/`\n",
    "- Veja exemplos avançados: `docs/examples.rst`\n",
    "- Contribua com o projeto: `CONTRIBUTING.md`\n",
    "\n",
    "### 📚 **Recursos Adicionais:**\n",
    "\n",
    "- **Código fonte**: `src/biblioteca_melhorada.py`\n",
    "- **Testes unitários**: `tests/test_biblioteca.py`\n",
    "- **Documentação da API**: `docs/api.rst`\n",
    "- **Guia de instalação**: `docs/installation.rst`\n",
    "\n",
    "---\n",
    "\n",
    "**💡 Dica**: Este notebook pode ser executado quantas vezes quiser para explorar diferentes cenários!"
   ]
  }
 ],
 "metadata": {
  "language_info": {
   "name": "python"
  }
 },
 "nbformat": 4,
 "nbformat_minor": 5
}
